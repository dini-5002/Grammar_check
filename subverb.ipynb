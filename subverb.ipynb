{
  "nbformat": 4,
  "nbformat_minor": 0,
  "metadata": {
    "colab": {
      "provenance": [],
      "include_colab_link": true
    },
    "kernelspec": {
      "name": "python3",
      "display_name": "Python 3"
    },
    "language_info": {
      "name": "python"
    }
  },
  "cells": [
    {
      "cell_type": "markdown",
      "metadata": {
        "id": "view-in-github",
        "colab_type": "text"
      },
      "source": [
        "<a href=\"https://colab.research.google.com/github/dini-5002/Grammar_check/blob/main/subverb.ipynb\" target=\"_parent\"><img src=\"https://colab.research.google.com/assets/colab-badge.svg\" alt=\"Open In Colab\"/></a>"
      ]
    },
    {
      "cell_type": "code",
      "execution_count": null,
      "metadata": {
        "colab": {
          "base_uri": "https://localhost:8080/"
        },
        "id": "wqeOzho0RLHW",
        "outputId": "bba47802-0420-4e7c-e1a1-a45518aa5a6b"
      },
      "outputs": [
        {
          "output_type": "stream",
          "name": "stderr",
          "text": [
            "[nltk_data] Downloading package punkt to /root/nltk_data...\n",
            "[nltk_data]   Unzipping tokenizers/punkt.zip.\n",
            "[nltk_data] Downloading package averaged_perceptron_tagger to\n",
            "[nltk_data]     /root/nltk_data...\n",
            "[nltk_data]   Unzipping taggers/averaged_perceptron_tagger.zip.\n"
          ]
        }
      ],
      "source": [
        "import pandas as pd\n",
        "from sklearn.model_selection import train_test_split\n",
        "import nltk\n",
        "nltk.download('punkt')\n",
        "nltk.download('averaged_perceptron_tagger')\n",
        "\n",
        "# Sample dataset\n",
        "data = [\n",
        "    (\"He go to the market.\", 1),\n",
        "    (\"She goes to the market.\", 0),\n",
        "    (\"They is playing soccer.\", 1),\n",
        "    (\"They are playing soccer.\", 0)\n",
        "]\n",
        "\n",
        "df = pd.DataFrame(data, columns=['sentence', 'label'])\n",
        "\n",
        "# Splitting data\n",
        "train_data, test_data = train_test_split(df, test_size=0.2, random_state=42)"
      ]
    },
    {
      "cell_type": "code",
      "source": [
        "from tensorflow.keras.preprocessing.text import Tokenizer\n",
        "from tensorflow.keras.preprocessing.sequence import pad_sequences\n",
        "\n",
        "# Tokenize the sentences\n",
        "tokenizer = Tokenizer()\n",
        "tokenizer.fit_on_texts(train_data['sentence'])\n",
        "\n",
        "X_train = tokenizer.texts_to_sequences(train_data['sentence'])\n",
        "X_test = tokenizer.texts_to_sequences(test_data['sentence'])\n",
        "\n",
        "# Padding sequences to the same length\n",
        "max_len = 10\n",
        "X_train = pad_sequences(X_train, padding='post', maxlen=max_len)\n",
        "X_test = pad_sequences(X_test, padding='post', maxlen=max_len)\n",
        "\n",
        "y_train = train_data['label'].values\n",
        "y_test = test_data['label'].values"
      ],
      "metadata": {
        "id": "lfwNU_ruYzYt"
      },
      "execution_count": null,
      "outputs": []
    },
    {
      "cell_type": "code",
      "source": [
        "from tensorflow.keras.models import Sequential\n",
        "from tensorflow.keras.layers import Embedding, LSTM, Dense\n",
        "\n",
        "# Model definition\n",
        "model = Sequential()\n",
        "model.add(Embedding(input_dim=len(tokenizer.word_index) + 1, output_dim=64, input_length=max_len))\n",
        "model.add(LSTM(units=64))\n",
        "model.add(Dense(1, activation='sigmoid'))\n",
        "\n",
        "model.compile(optimizer='adam', loss='binary_crossentropy', metrics=['accuracy'])\n",
        "model.summary()\n"
      ],
      "metadata": {
        "colab": {
          "base_uri": "https://localhost:8080/"
        },
        "id": "3nWTgtx9Y6kK",
        "outputId": "a334cc4b-6db9-4e8c-a439-c237863d4383"
      },
      "execution_count": null,
      "outputs": [
        {
          "output_type": "stream",
          "name": "stdout",
          "text": [
            "Model: \"sequential_1\"\n",
            "_________________________________________________________________\n",
            " Layer (type)                Output Shape              Param #   \n",
            "=================================================================\n",
            " embedding_1 (Embedding)     (None, 10, 64)            704       \n",
            "                                                                 \n",
            " lstm_1 (LSTM)               (None, 64)                33024     \n",
            "                                                                 \n",
            " dense_1 (Dense)             (None, 1)                 65        \n",
            "                                                                 \n",
            "=================================================================\n",
            "Total params: 33793 (132.00 KB)\n",
            "Trainable params: 33793 (132.00 KB)\n",
            "Non-trainable params: 0 (0.00 Byte)\n",
            "_________________________________________________________________\n"
          ]
        }
      ]
    },
    {
      "cell_type": "code",
      "source": [
        "# Training the model\n",
        "model.fit(X_train, y_train, epochs=10, batch_size=32, validation_split=0.2)\n",
        "\n"
      ],
      "metadata": {
        "colab": {
          "base_uri": "https://localhost:8080/"
        },
        "id": "8HWN2VBxZBCM",
        "outputId": "01cbda53-8cb5-4943-fe32-dcca3a449b4d"
      },
      "execution_count": null,
      "outputs": [
        {
          "output_type": "stream",
          "name": "stdout",
          "text": [
            "Epoch 1/10\n",
            "1/1 [==============================] - 4s 4s/step - loss: 0.6935 - accuracy: 0.5000 - val_loss: 0.6993 - val_accuracy: 0.0000e+00\n",
            "Epoch 2/10\n",
            "1/1 [==============================] - 0s 82ms/step - loss: 0.6920 - accuracy: 0.5000 - val_loss: 0.6999 - val_accuracy: 0.0000e+00\n",
            "Epoch 3/10\n",
            "1/1 [==============================] - 0s 72ms/step - loss: 0.6904 - accuracy: 0.5000 - val_loss: 0.7008 - val_accuracy: 0.0000e+00\n",
            "Epoch 4/10\n",
            "1/1 [==============================] - 0s 83ms/step - loss: 0.6886 - accuracy: 1.0000 - val_loss: 0.7022 - val_accuracy: 0.0000e+00\n",
            "Epoch 5/10\n",
            "1/1 [==============================] - 0s 69ms/step - loss: 0.6867 - accuracy: 1.0000 - val_loss: 0.7043 - val_accuracy: 0.0000e+00\n",
            "Epoch 6/10\n",
            "1/1 [==============================] - 0s 84ms/step - loss: 0.6844 - accuracy: 1.0000 - val_loss: 0.7071 - val_accuracy: 0.0000e+00\n",
            "Epoch 7/10\n",
            "1/1 [==============================] - 0s 72ms/step - loss: 0.6817 - accuracy: 1.0000 - val_loss: 0.7109 - val_accuracy: 0.0000e+00\n",
            "Epoch 8/10\n",
            "1/1 [==============================] - 0s 79ms/step - loss: 0.6784 - accuracy: 1.0000 - val_loss: 0.7159 - val_accuracy: 0.0000e+00\n",
            "Epoch 9/10\n",
            "1/1 [==============================] - 0s 84ms/step - loss: 0.6745 - accuracy: 1.0000 - val_loss: 0.7220 - val_accuracy: 0.0000e+00\n",
            "Epoch 10/10\n",
            "1/1 [==============================] - 0s 76ms/step - loss: 0.6696 - accuracy: 1.0000 - val_loss: 0.7296 - val_accuracy: 0.0000e+00\n"
          ]
        },
        {
          "output_type": "execute_result",
          "data": {
            "text/plain": [
              "<keras.src.callbacks.History at 0x79ac96104280>"
            ]
          },
          "metadata": {},
          "execution_count": 8
        }
      ]
    },
    {
      "cell_type": "code",
      "source": [
        "# Evaluate the model\n",
        "loss, accuracy = model.evaluate(X_test, y_test)\n",
        "print(f'Test Accuracy: {accuracy * 100:.2f}%')\n"
      ],
      "metadata": {
        "colab": {
          "base_uri": "https://localhost:8080/"
        },
        "id": "7J0ABYXQZMwY",
        "outputId": "98cad230-6916-474d-a11c-cfeeff2f335b"
      },
      "execution_count": null,
      "outputs": [
        {
          "output_type": "stream",
          "name": "stdout",
          "text": [
            "1/1 [==============================] - 0s 30ms/step - loss: 0.6823 - accuracy: 1.0000\n",
            "Test Accuracy: 100.00%\n"
          ]
        }
      ]
    },
    {
      "cell_type": "code",
      "source": [
        "def predict_error(sentence):\n",
        "    pos_tags = pos_tagging(sentence)\n",
        "    encoded_tags = pos_encoder.transform([tag for word, tag in pos_tags])\n",
        "    padded_tags = pad_sequences([encoded_tags], maxlen=max_len, padding='post')\n",
        "    prediction = model.predict(padded_tags)\n",
        "    return \"Error\" if prediction.argmax() == 1 else \"No Error\"\n",
        "\n",
        "# Example usage\n",
        "sentence = \"He go to the market.\"\n",
        "print(predict_error(sentence))  # Output should be \"Error\"\n"
      ],
      "metadata": {
        "colab": {
          "base_uri": "https://localhost:8080/"
        },
        "id": "1s2exM5sRrOX",
        "outputId": "81f26248-7687-4eaf-b281-136a56cab13a"
      },
      "execution_count": null,
      "outputs": [
        {
          "output_type": "stream",
          "name": "stdout",
          "text": [
            "1/1 [==============================] - 1s 807ms/step\n",
            "Error\n"
          ]
        }
      ]
    },
    {
      "cell_type": "code",
      "source": [],
      "metadata": {
        "id": "jnV-1gBfRwUg"
      },
      "execution_count": null,
      "outputs": []
    }
  ]
}