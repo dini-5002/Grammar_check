{
  "metadata": {
    "kernelspec": {
      "language": "python",
      "display_name": "Python 3",
      "name": "python3"
    },
    "language_info": {
      "name": "python",
      "version": "3.10.13",
      "mimetype": "text/x-python",
      "codemirror_mode": {
        "name": "ipython",
        "version": 3
      },
      "pygments_lexer": "ipython3",
      "nbconvert_exporter": "python",
      "file_extension": ".py"
    },
    "kaggle": {
      "accelerator": "none",
      "dataSources": [],
      "dockerImageVersionId": 30732,
      "isInternetEnabled": true,
      "language": "python",
      "sourceType": "notebook",
      "isGpuEnabled": false
    },
    "colab": {
      "name": "Punctuation",
      "provenance": [],
      "include_colab_link": true
    }
  },
  "nbformat_minor": 0,
  "nbformat": 4,
  "cells": [
    {
      "cell_type": "markdown",
      "metadata": {
        "id": "view-in-github",
        "colab_type": "text"
      },
      "source": [
        "<a href=\"https://colab.research.google.com/github/dini-5002/Grammar_check/blob/main/Punctuation.ipynb\" target=\"_parent\"><img src=\"https://colab.research.google.com/assets/colab-badge.svg\" alt=\"Open In Colab\"/></a>"
      ]
    },
    {
      "cell_type": "code",
      "source": [
        "import os\n",
        "for dirname, _, filenames in os.walk('/kaggle/input'):\n",
        "    for filename in filenames:\n",
        "        print(os.path.join(dirname, filename))\n"
      ],
      "metadata": {
        "_uuid": "8f2839f25d086af736a60e9eeb907d3b93b6e0e5",
        "_cell_guid": "b1076dfc-b9ad-4769-8c92-a6c4dae69d19",
        "execution": {
          "iopub.status.busy": "2024-06-28T10:58:28.616042Z",
          "iopub.execute_input": "2024-06-28T10:58:28.616433Z",
          "iopub.status.idle": "2024-06-28T10:58:28.622309Z",
          "shell.execute_reply.started": "2024-06-28T10:58:28.616401Z",
          "shell.execute_reply": "2024-06-28T10:58:28.621144Z"
        },
        "trusted": true,
        "id": "Yw2iCVAYJeHH"
      },
      "execution_count": null,
      "outputs": []
    },
    {
      "cell_type": "code",
      "source": [
        "import re\n",
        "\n",
        "def tokenize(text):\n",
        "    tokens = re.findall(r\"[\\w']+|[.,!?;:()\\\"-]\", text)\n",
        "    return tokens\n",
        "\n",
        "text = \"Why do i insist on procrastinating (maybe it is the damn phone... for sure actually.\"\n",
        "tokens = tokenize(text)\n",
        "print(tokens)"
      ],
      "metadata": {
        "execution": {
          "iopub.status.busy": "2024-06-28T10:58:28.624485Z",
          "iopub.execute_input": "2024-06-28T10:58:28.624942Z",
          "iopub.status.idle": "2024-06-28T10:58:28.635534Z",
          "shell.execute_reply.started": "2024-06-28T10:58:28.624895Z",
          "shell.execute_reply": "2024-06-28T10:58:28.634187Z"
        },
        "trusted": true,
        "id": "n2rt2Np-JeHM",
        "outputId": "0c0d5778-3057-4d19-c66a-89c346f37e32"
      },
      "execution_count": null,
      "outputs": [
        {
          "name": "stdout",
          "text": "['Why', 'do', 'i', 'insist', 'on', 'procrastinating', '(', 'maybe', 'it', 'is', 'the', 'damn', 'phone', '.', '.', '.', 'for', 'sure', 'actually', '.']\n",
          "output_type": "stream"
        }
      ]
    },
    {
      "cell_type": "code",
      "source": [
        "def correct_punctuation(tokens):\n",
        "    corrected_tokens = []\n",
        "    previous_token = \"\"\n",
        "    wh_words = {'who', 'what', 'when', 'where', 'why', 'how'}\n",
        "    question_mark_needed = False\n",
        "\n",
        "    for token in tokens:\n",
        "        if token.lower() in wh_words:\n",
        "            question_mark_needed = True\n",
        "\n",
        "        if token == 'i':\n",
        "            token = 'I'\n",
        "\n",
        "        if token in [',', '.', ';', ':', '!', '?']:\n",
        "            if previous_token and previous_token not in [',', '.', ';', ':', '!', '?']:\n",
        "                corrected_tokens.append(token)\n",
        "        elif token in ['\"', \"'\", \"(\", \")\", \"[\", \"]\"]:\n",
        "            if token in ['\"', \"'\"]:\n",
        "                if corrected_tokens.count(token) % 2 == 0:\n",
        "                    corrected_tokens.append(token)\n",
        "                else:\n",
        "                    corrected_tokens[-1] += token\n",
        "            elif token == \"(\":\n",
        "                corrected_tokens.append(token)\n",
        "            elif token == \")\":\n",
        "                if corrected_tokens.count(\"(\") > corrected_tokens.count(\")\"):\n",
        "                    corrected_tokens.append(token)\n",
        "            elif token == \"[\":\n",
        "                corrected_tokens.append(token)\n",
        "            elif token == \"]\":\n",
        "                if corrected_tokens.count(\"[\") > corrected_tokens.count(\"]\"):\n",
        "                    corrected_tokens.append(token)\n",
        "        else:\n",
        "            corrected_tokens.append(token)\n",
        "        previous_token = token\n",
        "\n",
        "    # Balance parentheses and brackets\n",
        "    corrected_tokens.extend(\")\" * (corrected_tokens.count(\"(\") - corrected_tokens.count(\")\")))\n",
        "    corrected_tokens.extend(\"]\" * (corrected_tokens.count(\"[\") - corrected_tokens.count(\"]\")))\n",
        "\n",
        "    # Add a question mark at the end if needed\n",
        "    if question_mark_needed and corrected_tokens[-1] not in '.!?':\n",
        "        corrected_tokens.append('?')\n",
        "\n",
        "    # Capitalize the first letter after a period\n",
        "    for i in range(len(corrected_tokens) - 1):\n",
        "        if corrected_tokens[i] in '.!?':\n",
        "            if i + 1 < len(corrected_tokens) and corrected_tokens[i + 1].isalpha():\n",
        "                corrected_tokens[i + 1] = corrected_tokens[i + 1].capitalize()\n",
        "\n",
        "    return corrected_tokens"
      ],
      "metadata": {
        "execution": {
          "iopub.status.busy": "2024-06-28T10:58:28.637544Z",
          "iopub.execute_input": "2024-06-28T10:58:28.638022Z",
          "iopub.status.idle": "2024-06-28T10:58:28.651406Z",
          "shell.execute_reply.started": "2024-06-28T10:58:28.637978Z",
          "shell.execute_reply": "2024-06-28T10:58:28.65018Z"
        },
        "trusted": true,
        "id": "eAu9W75AJeHO"
      },
      "execution_count": null,
      "outputs": []
    },
    {
      "cell_type": "code",
      "source": [
        "def reconstruct_text(tokens):\n",
        "    text = ' '.join(tokens)\n",
        "    text = text.replace(\" ,\", \",\")\n",
        "    text = text.replace(\" .\", \".\")\n",
        "    text = text.replace(\" !\", \"!\")\n",
        "    text = text.replace(\" ?\", \"?\")\n",
        "    text = text.replace(\" ;\", \";\")\n",
        "    text = text.replace(\" :\", \":\")\n",
        "    text = text.replace(\" ( \", \" (\")\n",
        "    text = text.replace(\" ) \", \") \")\n",
        "    text = text.replace(\" ' \", \"'\")\n",
        "    text = text.replace(' \"', '\"')\n",
        "    return text"
      ],
      "metadata": {
        "execution": {
          "iopub.status.busy": "2024-06-28T10:58:28.653028Z",
          "iopub.execute_input": "2024-06-28T10:58:28.653448Z",
          "iopub.status.idle": "2024-06-28T10:58:28.66764Z",
          "shell.execute_reply.started": "2024-06-28T10:58:28.653408Z",
          "shell.execute_reply": "2024-06-28T10:58:28.666482Z"
        },
        "trusted": true,
        "id": "-3beN7FUJeHQ"
      },
      "execution_count": null,
      "outputs": []
    },
    {
      "cell_type": "code",
      "source": [
        "corrected_tokens = correct_punctuation(tokens)\n",
        "corrected_text = reconstruct_text(corrected_tokens)\n",
        "print(\"Input Text:\", text)\n",
        "print(\"Corrected Text:\", corrected_text)"
      ],
      "metadata": {
        "execution": {
          "iopub.status.busy": "2024-06-28T10:58:28.669911Z",
          "iopub.execute_input": "2024-06-28T10:58:28.670349Z",
          "iopub.status.idle": "2024-06-28T10:58:28.680195Z",
          "shell.execute_reply.started": "2024-06-28T10:58:28.670312Z",
          "shell.execute_reply": "2024-06-28T10:58:28.67911Z"
        },
        "trusted": true,
        "id": "irhB-3yZJeHQ",
        "outputId": "1c82700f-37ed-4bee-e0d1-fdb06646b1af"
      },
      "execution_count": null,
      "outputs": [
        {
          "name": "stdout",
          "text": "Input Text: Why do i insist on procrastinating (maybe it is the damn phone... for sure actually.\nCorrected Text: Why do I insist on procrastinating (maybe it is the damn phone. For sure actually. )?\n",
          "output_type": "stream"
        }
      ]
    }
  ]
}