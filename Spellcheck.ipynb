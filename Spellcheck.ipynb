{
  "nbformat": 4,
  "nbformat_minor": 0,
  "metadata": {
    "colab": {
      "provenance": [],
      "authorship_tag": "ABX9TyPIfBNjLKKSIZEPWI7VSJE4",
      "include_colab_link": true
    },
    "kernelspec": {
      "name": "python3",
      "display_name": "Python 3"
    },
    "language_info": {
      "name": "python"
    }
  },
  "cells": [
    {
      "cell_type": "markdown",
      "metadata": {
        "id": "view-in-github",
        "colab_type": "text"
      },
      "source": [
        "<a href=\"https://colab.research.google.com/github/dini-5002/Grammar_check/blob/main/Spellcheck.ipynb\" target=\"_parent\"><img src=\"https://colab.research.google.com/assets/colab-badge.svg\" alt=\"Open In Colab\"/></a>"
      ]
    },
    {
      "cell_type": "markdown",
      "source": [
        "###Spelling check\n",
        "This can can help us in possible correction for typos in a text."
      ],
      "metadata": {
        "id": "YrwMvAvQkC_A"
      }
    },
    {
      "cell_type": "markdown",
      "source": [
        "Here we are using a file which contains plain text with a wide range of words."
      ],
      "metadata": {
        "id": "G8i0OsiNloIf"
      }
    },
    {
      "cell_type": "code",
      "source": [
        "import re\n",
        "with open(\"/content/big.txt\", \"r\") as f:\n",
        "    lines = f.readlines()\n",
        "    words = []\n",
        "    for line in lines:\n",
        "        words += re.findall(r'\\w+', line.lower())\n",
        "\n"
      ],
      "metadata": {
        "id": "rOB_yN8Fi-mt"
      },
      "execution_count": null,
      "outputs": []
    },
    {
      "cell_type": "code",
      "source": [
        "#printing some words from the text\n",
        "print(words[0:50])"
      ],
      "metadata": {
        "colab": {
          "base_uri": "https://localhost:8080/"
        },
        "id": "jDQ0D_XCi-kI",
        "outputId": "b87a97ed-fa58-4a1e-981a-67ba7dd3c4b9"
      },
      "execution_count": null,
      "outputs": [
        {
          "output_type": "stream",
          "name": "stdout",
          "text": [
            "['the', 'project', 'gutenberg', 'ebook', 'of', 'the', 'adventures', 'of', 'sherlock', 'holmes', 'by', 'sir', 'arthur', 'conan', 'doyle', '15', 'in', 'our', 'series', 'by', 'sir', 'arthur', 'conan', 'doyle', 'copyright', 'laws', 'are', 'changing', 'all', 'over', 'the', 'world', 'be', 'sure', 'to', 'check', 'the', 'copyright', 'laws', 'for', 'your', 'country', 'before', 'downloading', 'or', 'redistributing', 'this', 'or', 'any', 'other']\n"
          ]
        }
      ]
    },
    {
      "cell_type": "code",
      "source": [
        "#Total number of words in the file\n",
        "print(f\"Number of words :{len(words)}\")"
      ],
      "metadata": {
        "colab": {
          "base_uri": "https://localhost:8080/"
        },
        "id": "g0kPUJBAi-hc",
        "outputId": "7e296c22-f5c3-41a2-86cb-3c8188652876"
      },
      "execution_count": null,
      "outputs": [
        {
          "output_type": "stream",
          "name": "stdout",
          "text": [
            "Number of words :1115585\n"
          ]
        }
      ]
    },
    {
      "cell_type": "code",
      "source": [
        "#Number of unique words and defining a vocab\n",
        "vocab = set(words)\n",
        "print(f\"Number of unique words :{len(vocab)}\")"
      ],
      "metadata": {
        "colab": {
          "base_uri": "https://localhost:8080/"
        },
        "id": "LwLiDRHaq6kM",
        "outputId": "aefec9ab-ce43-4a25-cef0-058aea0e819c"
      },
      "execution_count": null,
      "outputs": [
        {
          "output_type": "stream",
          "name": "stdout",
          "text": [
            "Number of unique words :32198\n"
          ]
        }
      ]
    },
    {
      "cell_type": "code",
      "source": [
        "#word counter\n",
        "from collections import Counter\n",
        "word_count=Counter(words)\n",
        "print(word_count['a'])\n"
      ],
      "metadata": {
        "colab": {
          "base_uri": "https://localhost:8080/"
        },
        "id": "Ir3vKWHRrHpA",
        "outputId": "2a166284-bfff-40b1-e997-f6e50637f911"
      },
      "execution_count": null,
      "outputs": [
        {
          "output_type": "stream",
          "name": "stdout",
          "text": [
            "21124\n"
          ]
        }
      ]
    },
    {
      "cell_type": "markdown",
      "source": [
        "This code mainly works on probability. So we are defining a function to find the probability of a word from the given text file."
      ],
      "metadata": {
        "id": "C7D9pODQr4Sj"
      }
    },
    {
      "cell_type": "code",
      "source": [
        "#find the pobability of a word\n",
        "def p(word):\n",
        "    return word_count[word]/len(words)\n",
        "print(p('a'))"
      ],
      "metadata": {
        "colab": {
          "base_uri": "https://localhost:8080/"
        },
        "id": "65JyvMQ3uxlK",
        "outputId": "f1e0b486-2ccc-42a4-d3aa-f76b4b6a860b"
      },
      "execution_count": null,
      "outputs": [
        {
          "output_type": "stream",
          "name": "stdout",
          "text": [
            "0.018935356785901566\n"
          ]
        }
      ]
    },
    {
      "cell_type": "markdown",
      "source": [
        "Here we are defining a function which edits an incorrect word to nearest edit which can have possible correct spelling. It uses edits such as deletion, switiching, replacement and insertion.\n",
        "\n"
      ],
      "metadata": {
        "id": "gZcdqMmAsZB_"
      }
    },
    {
      "cell_type": "code",
      "source": [
        " # creates all the letter that are one edit away\n",
        "def edit1(word):\n",
        "    letters = 'abcdefghijklmnopqrstuvwxyz'\n",
        "    splits = [(word[:i], word[i:]) for i in range(len(word) + 1)]\n",
        "    deletes = [L + R[1:] for L, R in splits if R]\n",
        "    switch = [L+R[1]+R[0]+R[2:] for L, R in splits if len(R)>1]\n",
        "    replaces = [L+letter+R[1:] for L, R in splits if R for letter in letters]\n",
        "    inserts = [L+letter+R for L, R in splits for letter in letters]\n",
        "    return set(deletes + switch + replaces + inserts)\n",
        "print(edit1('s'))"
      ],
      "metadata": {
        "colab": {
          "base_uri": "https://localhost:8080/"
        },
        "id": "rEtkedHj-wGN",
        "outputId": "1c48815d-3865-442d-c97d-ebb1ed98de6e"
      },
      "execution_count": null,
      "outputs": [
        {
          "output_type": "stream",
          "name": "stdout",
          "text": [
            "{'', 'ls', 'sl', 'sg', 'c', 'ks', 'u', 'ys', 'j', 'sf', 'sz', 'is', 'sq', 'vs', 'ms', 'sj', 'y', 'e', 'x', 'bs', 'sb', 'sv', 'sk', 'w', 'zs', 'r', 'ds', 'st', 'ts', 'se', 'cs', 'sa', 'm', 'sx', 'qs', 'a', 'ws', 'sc', 'fs', 't', 'si', 'h', 'so', 'b', 'g', 'gs', 'o', 'z', 'es', 'sw', 'sd', 'hs', 'n', 'os', 'js', 'f', 'v', 'q', 'd', 'ns', 'us', 'sm', 'i', 'sp', 'sy', 'p', 'su', 'ss', 'sn', 's', 'rs', 'k', 'as', 'sr', 'xs', 'sh', 'ps', 'l'}\n"
          ]
        }
      ]
    },
    {
      "cell_type": "code",
      "source": [
        "# this create all the letters that are two edits away from the incorrect word\n",
        "def edit2(word):\n",
        "   return set(e2 for e1 in edit1(word) for e2 in edit1(e1))\n",
        "print(edit2('d'))"
      ],
      "metadata": {
        "colab": {
          "base_uri": "https://localhost:8080/"
        },
        "id": "y5sIyAQe-1Kw",
        "outputId": "1dd844f4-67b6-4df8-b9ca-e9e156b64e95"
      },
      "execution_count": null,
      "outputs": [
        {
          "output_type": "stream",
          "name": "stdout",
          "text": [
            "{'', 'up', 'zn', 'rsd', 'idr', 'hud', 'jdu', 'dma', 'qed', 'djl', 'kad', 'pm', 'odb', 'ac', 'ldh', 'dhq', 'lod', 'wv', 'tt', 'ddc', 'qdn', 'fu', 'djd', 'djm', 'wn', 'gdy', 'jh', 'qyd', 'ojd', 'med', 'hb', 'dla', 'dbv', 'do', 'ddg', 'dzy', 'sdf', 'daw', 'qe', 'gz', 'dbx', 'tzd', 'eg', 'zdk', 'dhb', 'cdi', 'pdr', 'dgn', 'ndj', 'yx', 'bk', 'ods', 'nsd', 'zdg', 'qmd', 'dup', 'dhs', 'rw', 'ij', 'ezd', 'mx', 'dut', 'on', 'ak', 'sb', 'adm', 'xrd', 'mdb', 'w', 'dee', 'nzd', 'yds', 'ox', 'xdm', 'ba', 'dhd', 'dro', 'dxo', 'oxd', 'jvd', 'dst', 'dam', 'dwo', 'lc', 'dit', 'gtd', 'dvi', 'dzo', 'hdu', 'cdw', 'yy', 'ddy', 'gfd', 'jds', 'jjd', 'uzd', 'drf', 'zyd', 'dcd', 'gdb', 'jdc', 'dzs', 'dzu', 'bdu', 'dxn', 'th', 'af', 'bdy', 'wdg', 'jad', 'hdl', 'jzd', 'zw', 'jud', 'dna', 'nr', 'cq', 'es', 'dqv', 'gjd', 'rk', 'rrd', 'ufd', 'pa', 'nwd', 'zad', 'dcn', 'dbk', 'ag', 'pfd', 'idk', 'prd', 'dxc', 'cn', 'ie', 'rn', 'rdo', 'hpd', 'dhj', 'kdi', 'mdq', 'idj', 'mh', 'gdi', 'dvr', 'dmv', 'dqy', 'dtg', 'ivd', 'hf', 'ayd', 'vvd', 'dfh', 'md', 'su', 'vbd', 'udt', 'deq', 'jdp', 'xc', 'nmd', 'deb', 'tn', 'cd', 'eod', 'ddj', 'idu', 'mdj', 'rb', 'ydv', 'vsd', 'wy', 'op', 'lk', 'hc', 'bl', 'drv', 'diw', 'sdy', 'dqg', 'dap', 'dje', 'sh', 'ked', 'adz', 'tdg', 'zmd', 'zhd', 'zdl', 'dud', 'dnc', 'dwj', 'rkd', 'ood', 'dgt', 'dzv', 'fud', 'vdl', 'pc', 'hld', 'oid', 'dqu', 'doo', 'hdb', 'ukd', 'duu', 'zxd', 'qa', 'dme', 'dao', 'afd', 'drs', 'dhk', 'dj', 'le', 'xf', 'rjd', 'fdt', 'rx', 'kdj', 'sud', 'jz', 'yh', 'dvy', 'lu', 'yk', 'dyx', 'qdv', 'dkc', 'dnk', 'zk', 'yrd', 'dhv', 'dsv', 'bbd', 'dig', 'ol', 'kv', 'az', 'ub', 'kdg', 'xg', 'bb', 'dhi', 'zjd', 'x', 'drl', 'dhl', 'nyd', 'vw', 'dyp', 'spd', 'ydy', 'dne', 'dir', 'ndy', 'ada', 'wgd', 'dmr', 'rv', 'dqw', 'wb', 'dog', 'djq', 'co', 'kk', 'dfq', 'dic', 'jdj', 'drm', 'ddk', 'xpd', 'sdo', 'lyd', 'gdv', 'ycd', 'zsd', 'drr', 'hdc', 'dkw', 'dmf', 'dhz', 'mdz', 'so', 'vpd', 'vld', 'dbp', 'jcd', 'pod', 'jsd', 'gkd', 'xsd', 'cda', 'odd', 'ldj', 'gda', 'sw', 'edq', 'dwe', 'ttd', 'sda', 'jdx', 'lvd', 'yod', 'ddu', 'dzr', 'ut', 'wc', 'dq', 'dmc', 'idd', 'wed', 'xdr', 'gq', 'szd', 'qod', 'dwt', 'jdt', 'be', 'fdk', 'ozd', 'dwl', 'sdv', 'dlh', 'sy', 'pdw', 'odj', 'ml', 'nk', 'dxq', 'ng', 'drn', 'dot', 'dwu', 'dcr', 'pdk', 'udz', 'dkz', 'dip', 'rt', 'kbd', 'xdn', 'dyg', 'dye', 'vyd', 'ldx', 'urd', 'dxe', 'ul', 'uqd', 'kdo', 'vt', 'dsu', 'hdp', 'dw', 'kyd', 'ps', 'dkk', 'xdh', 'pud', 'qg', 'zq', 'knd', 'bgd', 'mm', 'dvn', 'ydc', 'mqd', 'rh', 'fb', 'egd', 'sl', 'kdm', 'dls', 'kds', 'ldl', 'dmy', 'ged', 'hl', 'qo', 'tqd', 'dus', 'old', 'cm', 'bds', 'sed', 'dlv', 'gad', 'ugd', 'tpd', 'znd', 'rdv', 'kmd', 'dpp', 'ue', 'dxs', 'kdf', 'rdl', 'tnd', 'rds', 'deo', 'cdc', 'xd', 'cdp', 'y', 'ldy', 'drb', 'ov', 'jk', 'vhd', 'due', 'dkp', 'pq', 'zc', 'kod', 'erd', 'ldq', 'tud', 'bdf', 'cld', 'rdh', 'wx', 'dcz', 'oj', 'did', 'pdg', 'ned', 'fdv', 'bud', 'ym', 'dty', 'gg', 'ry', 'rdj', 'and', 'gdr', 'vd', 'ydr', 'osd', 'yvd', 'yc', 'fjd', 'sc', 'me', 'oe', 'dyj', 'zdi', 'kh', 'qdr', 'h', 'hw', 'mdc', 'mdu', 'bcd', 'lo', 'dsr', 'zdx', 'dti', 'eed', 'lgd', 'dmk', 'ysd', 'dmx', 'dzp', 'ty', 've', 'ki', 'gdn', 'dlk', 'kjd', 'ydp', 'bdk', 'gw', 'evd', 'dgy', 'udo', 'dlu', 'hr', 'xwd', 'ldr', 'bod', 'dvj', 'odn', 'tdw', 'apd', 'bdn', 'i', 'dhu', 'fc', 'yv', 'dct', 'rj', 'dly', 'xv', 'dr', 'bfd', 'pcd', 'pad', 'xde', 'drw', 'ssd', 'ntd', 'chd', 'udl', 'fa', 'ldz', 'ypd', 'axd', 'pj', 'djs', 'ar', 'fe', 'pda', 'dkj', 'udk', 'fid', 'del', 'bo', 'syd', 'pdn', 'odo', 'lhd', 'wfd', 'gm', 'dfx', 'doa', 'vz', 'wad', 'tdp', 'zp', 'sg', 'uld', 'efd', 'gdp', 'srd', 'deu', 'edk', 'xbd', 'ldm', 'fkd', 'dko', 'du', 'uz', 'to', 'cds', 'cdx', 'bsd', 'bdt', 'ot', 'mf', 'jf', 'ebd', 'mnd', 'ydz', 'dff', 'iwd', 'dp', 'den', 'udb', 'aa', 'ipd', 'tdm', 'dyl', 'fdh', 'dlr', 'sdh', 'vkd', 'ja', 'add', 'sk', 'vfd', 'djf', 'hdj', 'yxd', 'udm', 'ds', 'pdy', 'adv', 'kl', 'jnd', 'zed', 'we', 'kud', 'ggd', 'dwb', 'qn', 'atd', 'np', 'kxd', 'xzd', 'wi', 'dsb', 'deh', 'sfd', 'dqp', 'daz', 'dmd', 'cu', 'ro', 'pt', 'dlb', 'xo', 'edl', 'sdw', 'mdt', 'dyz', 'dql', 'ga', 'dcm', 'ndw', 'tdx', 'yhd', 'ddr', 'dcx', 'dyw', 'mkd', 'ia', 'dde', 'jtd', 'mq', 'dur', 'gs', 'wdp', 'dxk', 'qdd', 'dzx', 'im', 'adg', 'wdj', 'bdx', 'dnu', 'dji', 'dzc', 'wdb', 'zdh', 'jwd', 'bnd', 'dab', 'mdw', 'rdp', 'qtd', 'dra', 'dzj', 'dhr', 'yzd', 'dij', 'oud', 'dlj', 'xld', 'kw', 'jqd', 'dvc', 'dbe', 'uod', 'die', 'vda', 'gsd', 'uy', 'qgd', 'fdg', 'vdk', 'pz', 'ldv', 'dov', 'udj', 'kdn', 'uu', 'lw', 'fz', 'sdp', 'csd', 'utd', 'ip', 'kdv', 'dbf', 'yud', 'dqx', 'dpi', 'un', 'xu', 'yld', 'vm', 'dbh', 'dgi', 'tcd', 'sad', 'fd', 'ig', 'kdq', 'idb', 'dwh', 'dzq', 'dpu', 'bg', 'ti', 'dnv', 'dvu', 'dvg', 'pdm', 'ped', 'zl', 'qjd', 'grd', 'vv', 'dek', 'dry', 'das', 'ap', 'udv', 'emd', 'fk', 'ord', 'mt', 'ndg', 'mbd', 'jhd', 'mdy', 'kdy', 'zx', 'scd', 'abd', 'dsw', 'cdg', 'dds', 'dha', 'gdw', 'ydl', 'mud', 'sv', 'adu', 'ahd', 'px', 'uq', 'ddd', 'wdz', 'dtl', 'ma', 'doj', 'xdx', 'ok', 'bdw', 'ltd', 'ir', 'kdl', 'fdy', 'vdb', 'ddt', 'dlg', 'sx', 'lf', 'wmd', 'ndu', 'fy', 'dio', 'dxr', 'tj', 'nl', 'ffd', 'mk', 'bqd', 'jdi', 'fq', 'tjd', 'epd', 'yd', 'zkd', 'ehd', 'dfz', 'ida', 'ed', 'vj', 'dwx', 'eda', 'ndk', 'kqd', 'ndt', 'edr', 'fh', 'dbd', 'ind', 'drq', 'nld', 'dhg', 'gdl', 'yb', 'xdp', 'hcd', 'hde', 'djg', 'bzd', 'bh', 'jdy', 'xgd', 'dbu', 'q', 'xh', 'ns', 'kdz', 'pmd', 'rm', 'xdg', 'rq', 'vds', 'dpc', 'fnd', 'xcd', 'qvd', 'ss', 'adc', 'cdz', 'oq', 'dzw', 'drj', 'dih', 'qid', 'ra', 'kz', 'kgd', 'db', 'ph', 'an', 'dzb', 'kdc', 'iy', 'dkf', 'dav', 'qpd', 'kdw', 'dln', 'wwd', 'jc', 'gc', 'ii', 'fed', 'ado', 'ko', 'yq', 'qkd', 'jid', 'dfs', 'wdf', 'dor', 'sdm', 'bxd', 'pdf', 'oed', 'nxd', 'fdj', 'wdq', 'hxd', 'ljd', 'dew', 'asd', 'adn', 'cl', 'dle', 'dau', 'eo', 'dkt', 'if', 'sdr', 'fda', 'dis', 'cdu', 'qq', 'ih', 'qdw', 'gzd', 'sxd', 'wnd', 'qhd', 'wcd', 'vr', 'jo', 'wd', 'dlz', 'dpr', 'dxh', 'dmb', 'mdp', 'zdm', 'mad', 'mod', 'hnd', 'fad', 'xad', 'xmd', 'dqe', 'vdt', 'uk', 'xyd', 'ide', 'nu', 'jb', 'gud', 'mdl', 'dmu', 'dvt', 'uwd', 'mds', 'nid', 'hdn', 'dxt', 'ncd', 'xw', 'dbm', 'm', 'ic', 'tp', 'jdk', 'dwz', 'sdd', 'gcd', 'ws', 'qf', 'dpk', 'dkn', 'eh', 'pds', 'pdb', 'vdy', 'ddn', 'dof', 'odt', 'dya', 'zr', 'ru', 'cdy', 'dvw', 'dyf', 'tw', 'gv', 'dcc', 'cyd', 'dxj', 'pe', 'tvd', 'cz', 'bdl', 'xdj', 'tdl', 'ln', 'io', 'rdr', 'pn', 'ddx', 'eu', 'sd', 'hdt', 'upd', 'xvd', 'ogd', 'dvz', 'oda', 'zud', 'dwn', 'mc', 'ae', 'tod', 'zcd', 'ydx', 'fv', 'dxl', 'vn', 'bvd', 'dju', 'iu', 'hu', 'ymd', 'uhd', 'sp', 'dnn', 'bd', 'dex', 'vqd', 'hdm', 'yt', 'au', 'pid', 'txd', 'mr', 'edt', 'ccd', 'dvp', 'ldn', 'tdd', 'ubd', 'zdj', 'dnt', 'uds', 'dug', 'pdp', 'kb', 'xs', 'dba', 'qt', 'gdf', 'itd', 'hdh', 'wud', 'xdd', 'idf', 'dzi', 'wkd', 'ddi', 'ug', 'zdz', 'nfd', 'tfd', 'de', 'dzk', 'vc', 'lqd', 'dxv', 'tda', 'adh', 'qdy', 'zid', 'u', 'ui', 'vrd', 'qj', 'dcg', 'dwi', 'fdr', 'adp', 'dli', 'ldk', 'wp', 'adw', 'dgf', 'je', 'ydb', 'idn', 'dep', 'xdy', 'pu', 'dno', 'drp', 'hgd', 'bpd', 'vjd', 'bdc', 'dmp', 'pdx', 'led', 'dzd', 'sj', 'dnq', 'mxd', 'ird', 'ldf', 'zdv', 'jdl', 'ew', 'rr', 'ydq', 'rdn', 'sbd', 'dnf', 'vdr', 'ei', 'odx', 'dvv', 'dvk', 'dqb', 'opd', 'bmd', 'oqd', 'wdd', 'ndq', 'nbd', 'lz', 'drh', 'rxd', 'nt', 'da', 'qi', 'wde', 'vp', 'ndp', 'lud', 'rdu', 'zda', 'dsh', 'xdf', 'ydk', 'oy', 'ktd', 'mdn', 'pf', 'dtu', 'za', 'vdq', 'okd', 't', 'dmg', 'mo', 'kdb', 'ff', 'imd', 'ec', 'bdi', 'tz', 'jdq', 'eyd', 'mfd', 'dni', 'dfr', 'dza', 'dqs', 'eq', 'lrd', 'dys', 'ckd', 'po', 'ndb', 'idz', 'dtp', 'dzn', 'lb', 'n', 'swd', 'dca', 'zdf', 'dcp', 'lwd', 'bda', 'vod', 'wdt', 'dnh', 'dcw', 'dva', 'ldg', 'dhc', 'dvm', 'dbc', 'ifd', 'hdo', 'wpd', 'dvd', 'mdh', 'ld', 'pdh', 'qr', 'od', 'ded', 'pdz', 'dsg', 'lfd', 'dbt', 'ddm', 'no', 'em', 'ndr', 'bdv', 'idl', 'dey', 'dix', 'dtx', 'ade', 'yn', 'wdo', 'ngd', 'dks', 'dyn', 'lkd', 'bdb', 'dsi', 'edh', 'ndx', 'bdm', 'cde', 'qbd', 'idx', 'dax', 'oh', 'dtw', 'hq', 'uv', 'ksd', 'vg', 'aid', 'gvd', 'dul', 'ctd', 'll', 'ixd', 'fvd', 'dfc', 'odr', 'jxd', 'qnd', 'zdt', 'dku', 'ndf', 'zvd', 'mvd', 'doy', 'odq', 'wsd', 'ua', 'rdq', 'iq', 'dif', 'qdu', 'sdg', 'qb', 'sz', 'udy', 'xm', 'djv', 'ibd', 'xk', 'pxd', 'rdc', 'mdm', 'skd', 'ild', 'dvb', 'tdz', 'ly', 'wds', 'fxd', 'dwa', 'ved', 'jn', 'jdo', 'cg', 'dtc', 'gxd', 'nh', 'dvf', 'dsa', 'duo', 'dfi', 'dgm', 'doc', 'tad', 'ib', 'rfd', 'of', 'xdq', 'dv', 'rf', 'jp', 'ndo', 'tv', 'sa', 'dtv', 'ydw', 'zf', 'vh', 'dow', 'pkd', 'udq', 'qdi', 'dcs', 'yf', 'idh', 'krd', 'don', 'ygd', 'dda', 'bhd', 'trd', 'kzd', 'hrd', 'hdv', 'cb', 'btd', 'eb', 'dqj', 'xdo', 'idt', 'cc', 'dts', 'wdc', 'hi', 'lpd', 'odf', 'wl', 'dec', 'ch', 'gy', 'gdc', 'zb', 'dum', 'qy', 'dnp', 'dkl', 'rcd', 'sdu', 'dgo', 'edv', 'doh', 'dke', 'dfj', 'dim', 'rnd', 'v', 'udg', 'wid', 'edi', 'fqd', 'edy', 'udw', 'dub', 'vdj', 'xdi', 'qxd', 'sdi', 'ody', 'ddh', 'agd', 'edn', 'dyh', 'kj', 'gx', 'uj', 'ndm', 'hzd', 'sn', 'hfd', 'tde', 'qdc', 'xda', 'odg', 'rs', 'nvd', 'lad', 'mdr', 'ptd', 'gde', 'pzd', 'sdn', 'hz', 'pp', 'pd', 'dxb', 'dzh', 'zdq', 'lsd', 'dki', 'ik', 'ls', 'daq', 'mz', 'dmw', 'dms', 'ohd', 'div', 'wdk', 'cr', 'pgd', 'uh', 'gr', 'eud', 'pdi', 'bid', 'gdj', 'xn', 'nkd', 'dcb', 'ju', 'df', 'ydi', 'c', 'yl', 'qx', 'fgd', 'pk', 'qdo', 'sds', 'dxu', 'ho', 'j', 'qdh', 'wdr', 'fp', 'udr', 'wh', 'dhn', 'dtn', 'bq', 'dgz', 'dny', 'dou', 'edu', 'wqd', 'ka', 'pyd', 'ldw', 'ihd', 'sq', 'dk', 'edm', 'aad', 'dkq', 'tf', 'dlo', 'ou', 'qk', 'dng', 'sod', 'dgk', 'dcf', 'bdo', 'yad', 'dpe', 'ond', 'iw', 'kdr', 'ztd', 'ldo', 'vnd', 'dze', 'dwq', 'tbd', 'xx', 'dzt', 'ay', 'dga', 'sdt', 'tr', 'tdt', 'fpd', 'dky', 'adq', 'idg', 'gbd', 'nx', 'la', 'qh', 'pdt', 'dua', 'adi', 'wj', 'dem', 'si', 'djo', 'umd', 'amd', 'edx', 'npd', 'dre', 'sgd', 'dwk', 'ldi', 'yi', 'rdt', 'dpm', 'vcd', 'dqo', 'djw', 'cj', 'wdv', 'dho', 'fo', 'dml', 'fdl', 'hs', 'en', 'zt', 'hdx', 'lcd', 'tdq', 'dfm', 'rgd', 'dzl', 'ndn', 'kt', 'mjd', 'kcd', 'dux', 'lnd', 'sdz', 'god', 'ddz', 'km', 'ytd', 'dpf', 'bz', 'dxp', 'dnm', 'bx', 'qu', 'mn', 's', 'vl', 'htd', 'dpn', 'xz', 'fcd', 'dzm', 'wrd', 'dyq', 'dck', 'dcy', 'yw', 'xjd', 'tdj', 'ldd', 'jg', 'duw', 'ci', 'hdi', 'myd', 'vdn', 'kn', 'awd', 'dbs', 'dps', 'qdp', 'odp', 'zi', 'iv', 'mdd', 'py', 'zz', 'fdp', 'xdc', 'ndz', 'tdf', 'vdm', 'aqd', 'bdh', 'pdl', 'tmd', 'cid', 'rhd', 'dby', 'pi', 'rdf', 'cdj', 'dsk', 'dh', 'tdv', 're', 'dcv', 'et', 'ddw', 'ppd', 'dbr', 'qds', 'dnl', 'e', 'mg', 'omd', 'kc', 'bs', 'rmd', 'jdv', 'adl', 'edo', 'jq', 'odl', 'tq', 'dfp', 'pdd', 'fdu', 'qdz', 'nud', 'vdh', 'nds', 'drx', 'oyd', 'duj', 'kdt', 'zdw', 'jdr', 'dpv', 'diy', 'cs', 'tsd', 'qdl', 'frd', 'om', 'dww', 'zdu', 'fld', 'og', 'dbn', 'ikd', 'wdl', 'fde', 'dol', 'fdm', 'edg', 'bld', 'gdk', 'hkd', 'eld', 'iad', 'b', 'dtb', 'wdn', 'cad', 'jdm', 'rdg', 'dyy', 'fds', 'odm', 'lm', 'dqd', 'ldu', 'gyd', 'rdz', 'mhd', 'mzd', 'ddq', 'dkh', 'vad', 'dod', 'tdn', 'hid', 'dnw', 'rp', 'rqd', 'jdf', 'js', 'vi', 'cod', 'cdb', 'hk', 'ude', 'dlw', 'hdd', 'deg', 'mv', 'dpq', 'qdt', 'dcu', 'shd', 'ye', 'dgj', 'wda', 'aw', 'dkb', 'gd', 'dqk', 'dyi', 'dev', 'pg', 'ge', 'des', 'wr', 'xdz', 'il', 'rda', 'wg', 'vb', 'xfd', 'xdu', 'dru', 'udx', 'hjd', 'rdb', 'gdh', 'jda', 'mpd', 'duf', 'sdc', 'rid', 'br', 'dm', 'azd', 'fn', 'udi', 'ks', 'vu', 'jpd', 'dte', 'dse', 'ied', 'dwc', 'djr', 'iqd', 'zdo', 'vk', 'ndl', 'bwd', 'gid', 'ny', 'qad', 'kdu', 'dgw', 'dnb', 'dat', 'pdc', 'vo', 'hdf', 'nde', 'cx', 'cv', 'ddp', 'yu', 'dmq', 'dqa', 'xnd', 'odh', 'iud', 'dqc', 'djx', 'di', 'zv', 'dpy', 'fi', 'bdq', 'dhf', 'lda', 'djy', 'fdx', 'dkm', 'mdi', 'zpd', 'rld', 'r', 'zzd', 'bdd', 'se', 'gf', 'pjd', 'idy', 'mdx', 'xy', 'sjd', 'wz', 'dso', 'ndh', 'gdm', 'xe', 'ek', 'sdl', 'djk', 'ydo', 'mtd', 'dfy', 'aed', 'jdn', 'fdc', 'lmd', 'xq', 'um', 'tds', 'gdg', 'li', 'cdr', 'gpd', 'zwd', 'dej', 'jr', 'hda', 'dnj', 'dea', 'am', 'kdx', 'dpz', 'dan', 'doe', 'ldc', 'edf', 'gdq', 'dbj', 'ke', 'ywd', 'bad', 'xid', 'mdf', 'qdg', 'ykd', 'kd', 'nc', 'dwf', 'ede', 'tdr', 'dqt', 'ode', 'gdd', 'qd', 'odu', 'fzd', 'uud', 'pvd', 'gmd', 'tl', 'mde', 'fdq', 'uo', 'dri', 'ecd', 'odw', 'dlt', 'wyd', 'day', 'uid', 'ndc', 'zdc', 'mda', 'daf', 'odz', 'dpa', 'ucd', 'hhd', 'adf', 'dco', 'xdw', 'pdu', 'ady', 'dai', 'dbi', 'rud', 'dsc', 'gdx', 'ej', 'fm', 'rl', 'dn', 'edd', 'dz', 'dlc', 'pde', 'lp', 'kg', 'duz', 'gqd', 'hp', 'dfb', 'xkd', 'doq', 'aj', 'lxd', 'dcl', 'dch', 'bw', 'dph', 'av', 'yda', 'ha', 'dgu', 'dxy', 'ta', 'kfd', 'vmd', 'dik', 'bi', 'dfl', 'cy', 'kkd', 'nm', 'ao', 'zy', 'dnz', 'dxw', 'ddv', 'dgb', 'tld', 'lr', 'fdw', 'ndd', 'dpl', 'xed', 'ms', 'mi', 'or', 'dwp', 'vdz', 'ct', 'vud', 'ji', 'mid', 'bj', 'dbo', 'cpd', 'qcd', 'idw', 'eqd', 'jed', 'at', 'jl', 'iod', 'zm', 'ocd', 'st', 'svd', 'xxd', 'rdi', 'cnd', 'pdv', 'vdf', 'oad', 'fmd', 'tdh', 'gb', 'hdg', 'gnd', 'dhe', 'bkd', 'dxm', 'ftd', 'dtd', 'wf', 'uad', 'khd', 'dxd', 'xdl', 'dgl', 'ku', 'dpw', 'cbd', 'dqm', 'dld', 'kx', 'exd', 'jod', 'in', 'he', 'g', 'dsf', 'kid', 'dpt', 'oa', 'ix', 'eid', 'tm', 'mld', 'al', 'hbd', 'nad', 'cf', 'qdx', 'ww', 'fw', 'dqi', 'mb', 'gdt', 'hwd', 'qc', 'djj', 'dpg', 'vdv', 'sdk', 'dtm', 'jld', 'bde', 'f', 'dfv', 'dyk', 'ydf', 'dym', 'fdd', 'byd', 'drc', 'cdn', 'sm', 'dgv', 'qv', 'kvd', 'lzd', 'fdf', 'dok', 'nd', 'adb', 'tdy', 'lde', 'ob', 'tdc', 'by', 'go', 'dtq', 'hod', 'qm', 'dpx', 'dss', 'dyd', 'dvx', 'fbd', 'cfd', 'jdb', 'dfk', 'ux', 'wxd', 'sid', 'dkg', 'dfe', 'duq', 'end', 'dcq', 'dht', 'gdu', 'dsm', 'daj', 'xdk', 'kf', 'cxd', 'dl', 'ne', 'dei', 'xdb', 'zdp', 'msd', 'und', 'kda', 'oc', 'mdv', 'udc', 'djh', 'sqd', 'duy', 'yr', 'zu', 'tyd', 'dll', 'mrd', 'vdo', 'dx', 'kwd', 'tk', 'dfo', 'dyt', 'drk', 'vs', 'dqn', 'dgc', 'idc', 'jyd', 'rtd', 'vq', 'oz', 'dfu', 'zd', 'ldp', 'cdl', 'izd', 'ndv', 'acd', 'ekd', 'hdw', 'dlm', 'ni', 'yyd', 'nb', 'ido', 'wt', 'tid', 'dsn', 'dsy', 'wvd', 'nda', 'iz', 'bt', 'jrd', 'thd', 'gj', 'kdp', 'pdq', 'wdw', 'bc', 'gld', 'zde', 'gwd', 'bdz', 'tc', 'pnd', 'otd', 'dmm', 'dvq', 'std', 'zgd', 'ydh', 'zrd', 'rdk', 'dkx', 'o', 'pwd', 'cdk', 'rde', 'qwd', 'ald', 'hy', 'xod', 'na', 'qdb', 'xt', 'dqh', 'fdn', 'det', 'gdo', 'os', 'nq', 'dnd', 'fdi', 'ydt', 'rc', 'bdj', 'dft', 'jbd', 'adj', 'vx', 'kr', 'vdu', 'hsd', 'dal', 'mcd', 'ddo', 'rpd', 'ldb', 'wld', 'cdq', 'rvd', 'jm', 'el', 'dmj', 'cmd', 'yed', 'aq', 'dmo', 'kld', 'dar', 'qdj', 'k', 'vdc', 'wjd', 'odk', 'zh', 'pqd', 'ydu', 'cdh', 'dbl', 'vtd', 'dwd', 'yo', 'dak', 'dmz', 'nn', 'bdr', 'ewd', 'dos', 'wdm', 'hd', 'qdq', 'yqd', 'hj', 'dgq', 'ef', 'fdb', 'uxd', 'qqd', 'diq', 'mj', 'nqd', 'rod', 'dil', 'dxi', 'qz', 'vdx', 'tgd', 'tdu', 'iid', 'ejd', 'cjd', 'kq', 'dun', 'bed', 'gh', 'idv', 'dnx', 'dgg', 'odv', 'gt', 'dbw', 'ez', 'dns', 'bn', 'lg', 'djb', 'cdo', 'rwd', 'td', 'dg', 'dad', 'adx', 'dhx', 'ads', 'daa', 'adk', 'dgr', 'ep', 'obd', 'lx', 'hds', 'pdj', 'jde', 'kdh', 'cp', 'ri', 'sld', 'vzd', 'rd', 'jdh', 'dzz', 'qw', 'bjd', 'njd', 'jdz', 'vwd', 'oo', 'xj', 'zld', 'rdm', 'wbd', 'pr', 'fdz', 'ce', 'qs', 'dtj', 'ky', 'qdm', 'hqd', 'a', 'udp', 'dhh', 'dfn', 'ex', 'dtz', 'wa', 'dbz', 'icd', 'jfd', 'mdg', 'jd', 'jgd', 'mgd', 'djc', 'doi', 'dto', 'dta', 'jdw', 'ea', 'edz', 'dyo', 'my', 'owd', 'hdq', 'vdd', 'hm', 'dsz', 'idq', 'xp', 'cdt', 'ybd', 'yj', 'udu', 'jmd', 'dgx', 'ht', 'vdp', 'ted', 'dui', 'drg', 'fg', 'ydd', 'diu', 'drt', 'psd', 'd', 'akd', 'hyd', 'dka', 'ca', 'dpo', 'er', 'kdd', 'xa', 'nnd', 'fx', 'p', 'cud', 'hdk', 'wod', 'dth', 'kpd', 'mu', 'rz', 'dxg', 'ynd', 'vdi', 'xi', 'dmn', 'dsq', 'dac', 'wdx', 'zbd', 'as', 'jj', 'uw', 'dia', 'xud', 'ydg', 'dd', 'dqq', 'xr', 'dom', 'dtr', 'hdr', 'cqd', 'udn', 'bu', 'mmd', 'ud', 'ghd', 'bp', 'dws', 'pb', 'zdb', 'id', 'hg', 'xqd', 'dvl', 'idm', 'tdi', 'edc', 'nv', 'zdd', 'sdx', 'dmt', 'vf', 'zj', 'sf', 'wdi', 'tb', 'dsx', 'dgh', 'cvd', 'dlp', 'dc', 'dwg', 'dfg', 'rdw', 'jdg', 'dbg', 'igd', 'qud', 'adt', 'vgd', 'ids', 'gdz', 'wtd', 'dcj', 'dy', 'xl', 'xhd', 'twd', 'cgd', 'lt', 'ze', 'wk', 'ck', 'duv', 'dyv', 'zdn', 'dvs', 'lv', 'uvd', 'dlf', 'fr', 'udf', 'yp', 'nod', 'lld', 'ur', 'hx', 'crd', 'zs', 'dsp', 'had', 'fyd', 'mdk', 'dpj', 'zg', 'dzf', 'nhd', 'dkr', 'bdg', 'hh', 'dt', 'tdo', 'hvd', 'ydj', 'idi', 'dbb', 'jdd', 'qdf', 'jy', 'ndi', 'fl', 'bdp', 'drd', 'dah', 'djp', 'jt', 'dyb', 'it', 'dfd', 'yz', 'kp', 'yg', 'fj', 'fs', 'xds', 'pdo', 'udh', 'dmh', 'dwv', 'sde', 'dsj', 'ev', 'uda', 'lds', 'dvh', 'tu', 'ow', 'ya', 'der', 'dhy', 'cwd', 'tdk', 'rg', 'dhw', 'dtf', 'xdv', 'wq', 'sdq', 'zds', 'hed', 'dfw', 'iyd', 'pw', 'xdt', 'yjd', 'ofd', 'zo', 'dvo', 'qld', 'nrd', 'cdm', 'zfd', 'ah', 'wm', 'gk', 'gn', 'vdw', 'hdy', 'kde', 'mwd', 'zod', 'gl', 'rdd', 'dja', 'mdo', 'ced', 'nj', 'zdy', 'esd', 'lbd', 'tx', 'uc', 'ddf', 'ydn', 'qp', 'sr', 'cdd', 'uyd', 'dci', 'qsd', 'wzd', 'wdy', 'dsl', 'va', 'cw', 'dop', 'yid', 'lq', 'ujd', 'lid', 'pld', 'vde', 'xtd', 'tg', 'ql', 'rzd', 'dxf', 'ydm', 'nz', 'nw', 'bm', 'ys', 'rbd', 'dce', 'ai', 'ab', 'odc', 'def', 'lh', 'dqr', 'duh', 'gi', 'dbq', 'wo', 'wu', 'dkv', 'gds', 'dqf', 'dxa', 'dxz', 'is', 'qrd', 'dlq', 'dtk', 'pl', 'djn', 'sdj', 'edw', 'dfa', 'dgd', 'vid', 'ard', 'dib', 'ryd', 'dtt', 'nf', 'fdo', 'ddb', 'qfd', 'dox', 'dsd', 'dge', 'fod', 'dmi', 'dhp', 'oi', 'cdv', 'dkd', 'ovd', 'jkd', 'brd', 'din', 'fwd', 'dyc', 'ts', 'czd', 'red', 'jv', 'te', 'odi', 'diz', 'ead', 'ad', 'ey', 'tkd', 'pbd', 'bv', 'duc', 'fhd', 'gp', 'udd', 'dez', 'idp', 'djt', 'dpd', 'zqd', 'rad', 'bf', 'dzg', 'usd', 'ft', 'phd', 'ldt', 'dhm', 'drz', 'qzd', 'aod', 'hv', 'etd', 'smd', 'cdf', 'lj', 'tdb', 'xb', 'edp', 'hmd', 'avd', 'dob', 'yfd', 'z', 'ax', 'kdk', 'wdh', 'edj', 'dyu', 'ijd', 'dve', 'edb', 'pv', 'ddl', 'qdk', 'fsd', 'mp', 'dpb', 'dxx', 'dqz', 'uf', 'adr', 'dwr', 'dlx', 'ee', 'dgs', 'hdz', 'dag', 'dae', 'us', 'eds', 'zdr', 'djz', 'wdu', 'rdy', 'whd', 'ajd', 'isd', 'duk', 'hn', 'qde', 'jx', 'vxd', 'mw', 'vy', 'jw', 'vdg', 'sdb', 'dnr', 'dii', 'ued', 'aud', 'gu', 'dgp', 'snd', 'dyr', 'qda', 'doz', 'dwy', 'l', 'dwm', 'rdx', 'yde'}\n"
          ]
        }
      ]
    },
    {
      "cell_type": "code",
      "source": [
        "#This function filters out the word that is not present in the text file.\n",
        "def known(word):\n",
        "    return set(w for w in word if w in word_count)"
      ],
      "metadata": {
        "id": "q6FAlGmX1xjz"
      },
      "execution_count": null,
      "outputs": []
    },
    {
      "cell_type": "markdown",
      "source": [],
      "metadata": {
        "id": "E5j2ZdpS76TQ"
      }
    },
    {
      "cell_type": "code",
      "source": [
        "#This function finds out the posiible candidates i.e. all the words that are in the vocab.\n",
        "def candidates(word):\n",
        "    candidates = known([word]) or known(edit1(word)) or known(edit2(word)) or [word]\n",
        "    return candidates"
      ],
      "metadata": {
        "id": "iJ6QOX2rDakx"
      },
      "execution_count": null,
      "outputs": []
    },
    {
      "cell_type": "code",
      "source": [
        "#to give probable suggestions for the incorrect word with thier probability.\n",
        "import string\n",
        "def split_word_punctuation(word):\n",
        "    word_part = ''.join([char for char in word if char.isalnum()])\n",
        "    punctuation_part = ''.join([char for char in word if char in string.punctuation])\n",
        "    return word_part, punctuation_part\n",
        "def suggestions(word):\n",
        "    candidates_list = candidates(word)\n",
        "    probabilities = {candidate: p(candidate) for candidate in candidates_list}\n",
        "    for candidate in candidates_list:\n",
        "        print(f\"word - {candidate}, probability {probabilities[candidate]:.6f}\")\n",
        "def suggest(sentence):\n",
        "    for word_c in sentence.split():\n",
        "      word_part, punctuation_part = split_word_punctuation(word_c.lower())\n",
        "      if word_part not in vocab:\n",
        "        print(f'Word - {word_part}')\n",
        "        suggestions(word_part)\n"
      ],
      "metadata": {
        "id": "FAh8-DTLz_az"
      },
      "execution_count": null,
      "outputs": []
    },
    {
      "cell_type": "code",
      "source": [
        "sentence = input(str())\n"
      ],
      "metadata": {
        "colab": {
          "base_uri": "https://localhost:8080/"
        },
        "id": "xqYvktKiSnFW",
        "outputId": "d3301a0c-309d-48d3-d8f0-d7dccbbb9393"
      },
      "execution_count": null,
      "outputs": [
        {
          "name": "stdout",
          "output_type": "stream",
          "text": [
            "Hi, how are yog?\n"
          ]
        }
      ]
    },
    {
      "cell_type": "code",
      "source": [
        "suggest(sentence)"
      ],
      "metadata": {
        "colab": {
          "base_uri": "https://localhost:8080/"
        },
        "id": "Ldct4Uv2DBRc",
        "outputId": "97341d4e-5b6f-471c-c864-7f984f449153"
      },
      "execution_count": null,
      "outputs": [
        {
          "output_type": "stream",
          "name": "stdout",
          "text": [
            "Word - yog\n",
            "word - dog, probability 0.000057\n",
            "word - log, probability 0.000018\n",
            "word - yon, probability 0.000001\n",
            "word - bog, probability 0.000002\n",
            "word - fog, probability 0.000021\n",
            "word - you, probability 0.005040\n"
          ]
        }
      ]
    },
    {
      "cell_type": "code",
      "source": [
        " #This funtion returns the candidate word having the highest probability\n",
        "def correction(word):\n",
        "    candidates_list = candidates(word)\n",
        "    probabilities = {candidate: p(candidate) for candidate in candidates_list}\n",
        "    return max(probabilities, key=probabilities.get)"
      ],
      "metadata": {
        "id": "xaJXMXECwst5"
      },
      "execution_count": null,
      "outputs": []
    },
    {
      "cell_type": "code",
      "source": [
        "print(correction('speling'))"
      ],
      "metadata": {
        "colab": {
          "base_uri": "https://localhost:8080/"
        },
        "id": "l9B2qNE2wsre",
        "outputId": "2f489586-967a-4690-caeb-1df606c9a052"
      },
      "execution_count": null,
      "outputs": [
        {
          "output_type": "stream",
          "name": "stdout",
          "text": [
            "spelling\n"
          ]
        }
      ]
    },
    {
      "cell_type": "code",
      "source": [
        "#To print the sentence with most probable correct words. Basically the candidate with the highest probability is taken as the correct word.\n",
        "def spell_check(sentence):\n",
        "    corrected_sentence = []\n",
        "    suggestions = {}\n",
        "    for word in sentence.split():\n",
        "        word_part, punctuation_part = split_word_punctuation(word)\n",
        "        lower_word = word_part.lower()\n",
        "        if lower_word and lower_word not in words:\n",
        "            closest_matches = correction(lower_word)\n",
        "            suggestions[word_part] = closest_matches\n",
        "            corrected_sentence.append(f\"{closest_matches}{punctuation_part}\")\n",
        "        else:\n",
        "            corrected_sentence.append(word)\n",
        "    return ' '.join(corrected_sentence), suggestions"
      ],
      "metadata": {
        "id": "tZCfQyA0WHdz"
      },
      "execution_count": null,
      "outputs": []
    },
    {
      "cell_type": "code",
      "source": [
        "(spell_check(sentence))"
      ],
      "metadata": {
        "colab": {
          "base_uri": "https://localhost:8080/"
        },
        "id": "Q9Cufec1WKg-",
        "outputId": "f2886510-567f-4950-b630-487cb58ff718"
      },
      "execution_count": null,
      "outputs": [
        {
          "output_type": "execute_result",
          "data": {
            "text/plain": [
              "('Hi, how are you?', {'yog': 'you'})"
            ]
          },
          "metadata": {},
          "execution_count": 102
        }
      ]
    }
  ]
}